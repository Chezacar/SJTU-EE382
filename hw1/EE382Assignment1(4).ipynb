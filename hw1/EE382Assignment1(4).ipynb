{
 "cells": [
  {
   "cell_type": "markdown",
   "metadata": {
    "ExecuteTime": {
     "end_time": "2019-10-06T08:55:12.029667Z",
     "start_time": "2019-10-06T08:55:08.817Z"
    }
   },
   "source": [
    "# 问题四"
   ]
  },
  {
   "cell_type": "markdown",
   "metadata": {},
   "source": [
    "## 导入需要使用的库"
   ]
  },
  {
   "cell_type": "code",
   "execution_count": 1,
   "metadata": {
    "ExecuteTime": {
     "end_time": "2019-10-07T08:01:01.239266Z",
     "start_time": "2019-10-07T08:01:00.853710Z"
    }
   },
   "outputs": [],
   "source": [
    "from PIL import Image as im\n",
    "from tqdm import tqdm_notebook as tn\n",
    "import numpy as np\n",
    "import torch as t\n",
    "import matplotlib.pyplot as plt"
   ]
  },
  {
   "cell_type": "markdown",
   "metadata": {},
   "source": [
    "## 进行照片读入"
   ]
  },
  {
   "cell_type": "code",
   "execution_count": 2,
   "metadata": {
    "ExecuteTime": {
     "end_time": "2019-10-07T08:01:01.260988Z",
     "start_time": "2019-10-07T08:01:01.240797Z"
    }
   },
   "outputs": [],
   "source": [
    "l1 = im.open('-100.png')\n",
    "l2 = im.open('-65.png')\n",
    "l3 = im.open('-30.png')\n",
    "l4 = im.open('0.png')\n",
    "l5 = im.open('50.png')\n",
    "l6 = im.open('100.png')\n",
    "l2_target = im.open('-65_target.png')\n",
    "l3_target = im.open('-30_target.png')\n",
    "l4_target = im.open('0_target.png')"
   ]
  },
  {
   "cell_type": "markdown",
   "metadata": {},
   "source": [
    "### 进行图片数据预处理"
   ]
  },
  {
   "cell_type": "code",
   "execution_count": 3,
   "metadata": {
    "ExecuteTime": {
     "end_time": "2019-10-07T08:01:01.353497Z",
     "start_time": "2019-10-07T08:01:01.262495Z"
    }
   },
   "outputs": [],
   "source": [
    "def compress (img,num):\n",
    "    a1,a2 = img.size\n",
    "    img = img.resize((int(a1/num),int(a2/num)))\n",
    "    return img"
   ]
  },
  {
   "cell_type": "code",
   "execution_count": 4,
   "metadata": {
    "ExecuteTime": {
     "end_time": "2019-10-07T08:01:02.335562Z",
     "start_time": "2019-10-07T08:01:01.361204Z"
    }
   },
   "outputs": [
    {
     "name": "stdout",
     "output_type": "stream",
     "text": [
      "(756, 1008, 3)\n"
     ]
    }
   ],
   "source": [
    "l1 = compress(l1,4)\n",
    "l2 = compress(l2,4)\n",
    "l3 = compress(l3,4)\n",
    "l4 = compress(l4,4)\n",
    "l5 = compress(l5,4)\n",
    "l6 = compress(l6,4)\n",
    "l2_target = compress(l2_target,4)\n",
    "l3_target = compress(l3_target,4)\n",
    "l4_target = compress(l4_target,4)\n",
    "l1_array = np.array(l1)\n",
    "l2_array = np.array(l2)\n",
    "l3_array = np.array(l3)\n",
    "l4_array = np.array(l4)\n",
    "l5_array = np.array(l5)\n",
    "print(l5_array.shape)\n",
    "l6_array = np.array(l6)\n",
    "l2_target_array = np.array(l2_target)\n",
    "l3_target_array = np.array(l3_target)\n",
    "l4_target_array = np.array(l4_target)"
   ]
  },
  {
   "cell_type": "markdown",
   "metadata": {},
   "source": [
    "## 在不进行模板匹配的情况下使用SSD算法进行匹配"
   ]
  },
  {
   "cell_type": "code",
   "execution_count": 5,
   "metadata": {
    "ExecuteTime": {
     "end_time": "2019-10-07T08:01:02.342956Z",
     "start_time": "2019-10-07T08:01:02.336948Z"
    }
   },
   "outputs": [],
   "source": [
    "def SSD (pic,target):\n",
    "    DEVICE = t.device(\"cuda\" if t.cuda.is_available() else \"cpu\")\n",
    "    pic = t.tensor(np.array(pic)).to(DEVICE)\n",
    "    target = t.tensor(np.array(target)).to(DEVICE)\n",
    "    mistake_best = 99999999999999 #随便设了一个很大的值\n",
    "    x_best = y_best = x_edge = y_edge = 0\n",
    "    x_pic,y_pic,z_pic = pic.shape\n",
    "    x_target,y_target,z_target = target.shape\n",
    "    while (x_edge + x_target <= x_pic):\n",
    "        y_edge = 0\n",
    "        #if x_edge % 10 == 0:\n",
    "        #   print(x_edge)\n",
    "        while (y_edge + y_target <= y_pic):\n",
    "            mistake1 = pic[x_edge : x_edge + x_target,y_edge : y_edge + y_target] - target\n",
    "            #print(mistake1)\n",
    "            mistake2 = mistake1 * mistake1\n",
    "            #print(mistake2)\n",
    "            mistake_num = mistake2.sum()\n",
    "            #print(mistake_num)\n",
    "            if mistake_num < mistake_best:\n",
    "                mistake_best = mistake_num\n",
    "                #print(mistake_best)\n",
    "                x_best = x_edge\n",
    "                y_best = y_edge\n",
    "                #print(x_best)\n",
    "            y_edge += 1\n",
    "        x_edge += 1\n",
    "    print(x_best,y_best)\n",
    "    return x_best,y_best\n"
   ]
  },
  {
   "cell_type": "code",
   "execution_count": 6,
   "metadata": {
    "ExecuteTime": {
     "end_time": "2019-10-07T08:01:02.440168Z",
     "start_time": "2019-10-07T08:01:02.344320Z"
    }
   },
   "outputs": [],
   "source": [
    "def SSDtemplate(pic,target):\n",
    "    print(pic.shape)\n",
    "    print(target.shape)\n",
    "    x_pic,y_pic,z_pic = pic.shape\n",
    "    x_target,y_target,z_target = target.shape\n",
    "    x_best,y_best = SSD(pic,target)\n",
    "    pic_template = pic[x_best : x_best + x_target,y_best : y_best + y_target]\n",
    "    pic_template = im.fromarray(np.uint8(pic_template))\n",
    "    return pic_template"
   ]
  },
  {
   "cell_type": "code",
   "execution_count": 7,
   "metadata": {
    "ExecuteTime": {
     "end_time": "2019-10-07T08:01:39.550400Z",
     "start_time": "2019-10-07T08:01:02.441485Z"
    }
   },
   "outputs": [
    {
     "name": "stdout",
     "output_type": "stream",
     "text": [
      "(756, 1008, 3)\n",
      "(73, 192, 3)\n",
      "635 90\n"
     ]
    },
    {
     "data": {
      "image/png": "[encoded data removed]",
      "text/plain": [
       "<PIL.Image.Image image mode=RGB size=192x73 at 0x7F6DAC9F9310>"
      ]
     },
     "execution_count": 7,
     "metadata": {},
     "output_type": "execute_result"
    }
   ],
   "source": [
    "#print(l5_array.dtype)\n",
    "#print(l2_target_array.dtype)\n",
    "test = SSDtemplate(l5_array,l4_target_array)\n",
    "test"
   ]
  },
  {
   "cell_type": "markdown",
   "metadata": {},
   "source": [
    "+ 显然SSD算法很笨，对于曝光程度相差很大的图片无法匹配\n",
    "+ 想要用上SSD算法做模板匹配，必须要先做直方图特例化"
   ]
  },
  {
   "cell_type": "markdown",
   "metadata": {},
   "source": [
    "## 直方图特例化后做SSD模板匹配"
   ]
  },
  {
   "cell_type": "code",
   "execution_count": 8,
   "metadata": {
    "ExecuteTime": {
     "end_time": "2019-10-07T08:01:39.556036Z",
     "start_time": "2019-10-07T08:01:39.552872Z"
    }
   },
   "outputs": [],
   "source": [
    "def cdf (array):\n",
    "    a = array.shape[0]\n",
    "    sum_array = np.zeros(a)\n",
    "    for num in range(a):\n",
    "        if num == 0:\n",
    "            sum_array[0] = array[0]\n",
    "        else:\n",
    "            sum_array[num] = array[num] + sum_array[num-1]\n",
    "    return sum_array "
   ]
  },
  {
   "cell_type": "code",
   "execution_count": 9,
   "metadata": {
    "ExecuteTime": {
     "end_time": "2019-10-07T08:01:39.734657Z",
     "start_time": "2019-10-07T08:01:39.557552Z"
    }
   },
   "outputs": [],
   "source": [
    "def statistics(array):\n",
    "    x,y = array.shape\n",
    "    result = np.zeros(256)\n",
    "    for i in range(0,x-1):\n",
    "        for j in range (0,y-1):\n",
    "            result[array[i-1][j-1]] += 1\n",
    "    result = result/result.sum()\n",
    "    return result"
   ]
  },
  {
   "cell_type": "code",
   "execution_count": 10,
   "metadata": {
    "ExecuteTime": {
     "end_time": "2019-10-07T08:01:39.843468Z",
     "start_time": "2019-10-07T08:01:39.737931Z"
    },
    "code_folding": []
   },
   "outputs": [],
   "source": [
    "def map_sp(cdf1,cdf2):\n",
    "    x = cdf1.shape[0]\n",
    "    #print(x)\n",
    "    map_array = 255 * np.ones(x)\n",
    "    for i in range(0,x):\n",
    "          for j in range(0,x):\n",
    "            if cdf2[j] >= cdf1[i]:\n",
    "                map_array[i] = j\n",
    "                break;\n",
    "    #print(map_array)\n",
    "    return map_array"
   ]
  },
  {
   "cell_type": "code",
   "execution_count": 11,
   "metadata": {
    "ExecuteTime": {
     "end_time": "2019-10-07T08:01:39.956180Z",
     "start_time": "2019-10-07T08:01:39.846719Z"
    }
   },
   "outputs": [],
   "source": [
    "def map_special_3d(array,cdf_target,cdf_pic):\n",
    "    x_sp,y_sp,z_sp = array.shape\n",
    "    l_mapsp = np.zeros((x_sp,y_sp,z_sp))\n",
    "    for k in range(z_sp):\n",
    "        map_rel = map_sp(cdf_target[k-1,:],cdf_pic[k-1,:])\n",
    "        #print(map_rel)\n",
    "        for i in range(x_sp):\n",
    "            for j in range(y_sp):\n",
    "                l_mapsp[i,j,k] = map_rel[array[i,j,k]]\n",
    "   # l_mapsp = np.int(l_mapsp)\n",
    "    return l_mapsp"
   ]
  },
  {
   "cell_type": "code",
   "execution_count": 12,
   "metadata": {
    "ExecuteTime": {
     "end_time": "2019-10-07T08:01:40.062250Z",
     "start_time": "2019-10-07T08:01:39.959927Z"
    }
   },
   "outputs": [],
   "source": [
    "def cdf_3d(array):\n",
    "    array_cdf = np.zeros((3,256))\n",
    "    for i in range(3):\n",
    "        array_cdf[i,:] = cdf(statistics(array[:,:,i]))\n",
    "    return array_cdf"
   ]
  },
  {
   "cell_type": "code",
   "execution_count": 13,
   "metadata": {
    "ExecuteTime": {
     "end_time": "2019-10-07T08:01:40.160837Z",
     "start_time": "2019-10-07T08:01:40.065555Z"
    }
   },
   "outputs": [],
   "source": [
    "def SSDtemplate_equ(pic,target,pic_target):\n",
    "    pic_cdf = cdf_3d(pic)\n",
    "    target_cdf = cdf_3d(pic_target)\n",
    "    target_array_map = map_special_3d(target,target_cdf,pic_cdf)\n",
    "    target_array_map = target_array_map.astype(np.uint8)\n",
    "    #print(target_array.dtype)\n",
    "    #print(target_array_map[:,:,2])\n",
    "    test = SSDtemplate(pic,target_array_map)\n",
    "    return test"
   ]
  },
  {
   "cell_type": "code",
   "execution_count": 14,
   "metadata": {
    "ExecuteTime": {
     "end_time": "2019-10-07T08:02:17.079705Z",
     "start_time": "2019-10-07T08:01:40.163947Z"
    }
   },
   "outputs": [
    {
     "name": "stdout",
     "output_type": "stream",
     "text": [
      "(756, 1008, 3)\n",
      "(64, 182, 3)\n",
      "267 431\n"
     ]
    },
    {
     "data": {
      "image/png": "[encoded data removed]",
      "text/plain": [
       "<PIL.Image.Image image mode=RGB size=182x64 at 0x7F6DACA058D0>"
      ]
     },
     "execution_count": 14,
     "metadata": {},
     "output_type": "execute_result"
    }
   ],
   "source": [
    "test = SSDtemplate_equ(l1_array,l3_target_array,l3_array)\n",
    "test"
   ]
  },
  {
   "cell_type": "markdown",
   "metadata": {},
   "source": [
    "## ZNCC算法解决模板匹配问题"
   ]
  },
  {
   "cell_type": "code",
   "execution_count": 15,
   "metadata": {
    "ExecuteTime": {
     "end_time": "2019-10-07T08:02:17.089244Z",
     "start_time": "2019-10-07T08:02:17.081154Z"
    }
   },
   "outputs": [],
   "source": [
    "def ZNCC (pic,target):\n",
    "    DEVICE = t.device(\"cuda\" if t.cuda.is_available() else \"cpu\")\n",
    "    pic = t.tensor(np.array(pic),dtype = t.float).to(DEVICE)\n",
    "    target = t.tensor(np.array(target),dtype = t.float).to(DEVICE)\n",
    "    pic_shape = pic.shape\n",
    "    target_shape = target.shape\n",
    "    position_best = [0,0]\n",
    "    loss_best = -2\n",
    "    pic__nor = t.ones_like(pic)\n",
    "    pic_mean = t.ones_like(pic) \n",
    "    target_nor = t.ones_like(target) \n",
    "    target_mean = t.ones_like(target) \n",
    "    for i in range(3):\n",
    "        target_mean[:,:,i] = (t.sum(target[:,:,i])/(target_shape[0] * target_shape[1])) * t.ones_like(target[:,:,i])\n",
    "        pic_mean[:,:,i] = (t.sum(pic[:,:,i])/(pic_shape[0] * pic_shape[1])) * t.ones_like(pic[:,:,i])\n",
    "    target_nor = target - target_mean\n",
    "    pic_nor = pic - pic_mean\n",
    "    for i  in range(pic_shape[0] - target_shape[0]):\n",
    "        for j in range(pic_shape[1] - target_shape[1] + 1):\n",
    "            tmp = pic_nor[i:i + target_shape[0],j:j + target_shape[1]]\n",
    "            loss = t.sum(target_nor / t.sqrt(t.sum(target_nor * target_nor)) * (tmp / t.sqrt(t.sum(tmp * tmp))))\n",
    "            if loss > loss_best:\n",
    "                loss_best = loss\n",
    "                position_best = [i, j]\n",
    "    print(position_best)\n",
    "    return position_best"
   ]
  },
  {
   "cell_type": "code",
   "execution_count": 16,
   "metadata": {
    "ExecuteTime": {
     "end_time": "2019-10-07T08:02:17.238044Z",
     "start_time": "2019-10-07T08:02:17.090314Z"
    }
   },
   "outputs": [],
   "source": [
    "def ZNCCtemplate(pic,target):\n",
    "    pic_shape = pic.shape\n",
    "    target_shape = target.shape\n",
    "    #print(target_shape)\n",
    "    position = ZNCC(pic,target)\n",
    "    #print(pic[position[0]:position[0]+target_shape[0],position[1]:position[1]+target_shape[1]].shape)\n",
    "    return im.fromarray(pic[position[0]:position[0]+target_shape[0],position[1]:position[1]+target_shape[1],:].astype('uint8'))"
   ]
  },
  {
   "cell_type": "code",
   "execution_count": 17,
   "metadata": {
    "ExecuteTime": {
     "end_time": "2019-10-07T08:03:31.881322Z",
     "start_time": "2019-10-07T08:02:17.241141Z"
    }
   },
   "outputs": [
    {
     "name": "stdout",
     "output_type": "stream",
     "text": [
      "[263, 431]\n"
     ]
    },
    {
     "data": {
      "image/png": "[encoded data removed]",
      "text/plain": [
       "<PIL.Image.Image image mode=RGB size=185x70 at 0x7F6DACAAC710>"
      ]
     },
     "execution_count": 17,
     "metadata": {},
     "output_type": "execute_result"
    }
   ],
   "source": [
    "test = ZNCCtemplate(l3_array,l2_target_array)\n",
    "test"
   ]
  },
  {
   "cell_type": "markdown",
   "metadata": {},
   "source": [
    "+ 测试了不同曝光度下的模板匹配（示例为图二图三）\n",
    "+ ZNCC算法可以很好的应对曝光程度不同的问题"
   ]
  },
  {
   "cell_type": "code",
   "execution_count": null,
   "metadata": {},
   "outputs": [],
   "source": []
  }
 ],
 "metadata": {
  "file_extension": ".py",
  "kernelspec": {
   "display_name": "Python 3",
   "language": "python",
   "name": "python3"
  },
  "language_info": {
   "codemirror_mode": {
    "name": "ipython",
    "version": 3
   },
   "file_extension": ".py",
   "mimetype": "text/x-python",
   "name": "python",
   "nbconvert_exporter": "python",
   "pygments_lexer": "ipython3",
   "version": "3.7.4"
  },
  "mimetype": "text/x-python",
  "name": "python",
  "npconvert_exporter": "python",
  "pygments_lexer": "ipython3",
  "toc": {
   "base_numbering": 1,
   "nav_menu": {},
   "number_sections": true,
   "sideBar": true,
   "skip_h1_title": false,
   "title_cell": "Table of Contents",
   "title_sidebar": "Contents",
   "toc_cell": false,
   "toc_position": {},
   "toc_section_display": true,
   "toc_window_display": false
  },
  "varInspector": {
   "cols": {
    "lenName": 16,
    "lenType": 16,
    "lenVar": 40
   },
   "kernels_config": {
    "python": {
     "delete_cmd_postfix": "",
     "delete_cmd_prefix": "del ",
     "library": "var_list.py",
     "varRefreshCmd": "print(var_dic_list())"
    },
    "r": {
     "delete_cmd_postfix": ") ",
     "delete_cmd_prefix": "rm(",
     "library": "var_list.r",
     "varRefreshCmd": "cat(var_dic_list()) "
    }
   },
   "types_to_exclude": [
    "module",
    "function",
    "builtin_function_or_method",
    "instance",
    "_Feature"
   ],
   "window_display": false
  },
  "version": 3
 },
 "nbformat": 4,
 "nbformat_minor": 2
}
